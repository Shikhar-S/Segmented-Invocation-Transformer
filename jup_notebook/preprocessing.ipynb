{
 "cells": [
  {
   "cell_type": "code",
   "execution_count": 1,
   "metadata": {},
   "outputs": [],
   "source": [
    "from stanza.server import CoreNLPClient"
   ]
  },
  {
   "cell_type": "code",
   "execution_count": 2,
   "metadata": {},
   "outputs": [],
   "source": [
    "class ParseTreeNode:\n",
    "    def __init__(self,val):\n",
    "        self.value = val\n",
    "        self.children = []\n",
    "        self.height = 0\n",
    "        self.parent = None\n",
    "        #attributes for generating S and hierarchical positional embeddings\n",
    "        self.leaf_order_idx = -1 #0 indexed\n",
    "        self.leaf_list = []\n",
    "        \n",
    "    def add_child(self,child):\n",
    "        self.children.append(child)\n",
    "        child.parent = self\n",
    "    \n",
    "def process_tree(root):\n",
    "    current = ParseTreeNode(root.value)\n",
    "    for ch in root.child:\n",
    "        child = process_tree(ch)\n",
    "        current.add_child(child)\n",
    "        current.height = max(current.height,child.height + 1)\n",
    "        child.parent = current\n",
    "    return current"
   ]
  },
  {
   "cell_type": "code",
   "execution_count": null,
   "metadata": {},
   "outputs": [],
   "source": [
    "import os\n",
    "import pickle\n",
    "\n",
    "data_base_path = '../Data/parallel_data/'\n",
    "with CoreNLPClient(\n",
    "        annotators=['tokenize','parse'],#['tokenize','ssplit','pos','lemma','ner', 'parse', 'depparse','coref'],\n",
    "        timeout=30000,\n",
    "        memory='16G') as client:\n",
    "    for file in os.listdir(data_base_path):\n",
    "        if 'en' not in file or 'loss_fn' in file:\n",
    "            continue\n",
    "        trees = []\n",
    "        print('FILE::',file)\n",
    "        with open(data_base_path + file,'r') as f,open(data_base_path + 'trees/' + file[:-12]+'tree.pickle','wb') as g:\n",
    "            for line in f:\n",
    "                line = line.replace('_','') #else it breaks _FILE to _ and FILE\n",
    "                line_parseTree = client.annotate(line.strip()).sentence[0].parseTree\n",
    "                parseTree = process_tree(line_parseTree)\n",
    "                trees.append(parseTree)\n",
    "            pickle.dump(trees,g)"
   ]
  },
  {
   "cell_type": "code",
   "execution_count": 4,
   "metadata": {},
   "outputs": [],
   "source": [
    "def printTree(tree,tabs=1):\n",
    "    print('\\t'*tabs,tree.value,tree.height)\n",
    "    if tree.parent is not None:\n",
    "        print(tree.parent.value)\n",
    "    for ch in tree.children:\n",
    "        printTree(ch,tabs+1)\n",
    "\n",
    "# printTree(tree)"
   ]
  },
  {
   "cell_type": "code",
   "execution_count": 5,
   "metadata": {},
   "outputs": [
    {
     "name": "stdout",
     "output_type": "stream",
     "text": [
      "\t ROOT 8\n",
      "\t\t S 7\n",
      "ROOT\n",
      "\t\t\t VP 6\n",
      "S\n",
      "\t\t\t\t VB 1\n",
      "VP\n",
      "\t\t\t\t\t send 0\n",
      "VB\n",
      "\t\t\t\t NP 2\n",
      "VP\n",
      "\t\t\t\t\t JJ 1\n",
      "NP\n",
      "\t\t\t\t\t\t sigkill 0\n",
      "JJ\n",
      "\t\t\t\t\t NN 1\n",
      "NP\n",
      "\t\t\t\t\t\t signal 0\n",
      "NN\n",
      "\t\t\t\t PP 5\n",
      "VP\n",
      "\t\t\t\t\t IN 1\n",
      "PP\n",
      "\t\t\t\t\t\t to 0\n",
      "IN\n",
      "\t\t\t\t\t NP 4\n",
      "PP\n",
      "\t\t\t\t\t\t NP 2\n",
      "NP\n",
      "\t\t\t\t\t\t\t NN 1\n",
      "NP\n",
      "\t\t\t\t\t\t\t\t process 0\n",
      "NN\n",
      "\t\t\t\t\t\t\t NN 1\n",
      "NP\n",
      "\t\t\t\t\t\t\t\t id 0\n",
      "NN\n",
      "\t\t\t\t\t\t\t NN 1\n",
      "NP\n",
      "\t\t\t\t\t\t\t\t NUMBER 0\n",
      "NN\n",
      "\t\t\t\t\t\t VP 3\n",
      "NP\n",
      "\t\t\t\t\t\t\t VBG 1\n",
      "VP\n",
      "\t\t\t\t\t\t\t\t killing 0\n",
      "VBG\n",
      "\t\t\t\t\t\t\t NP 2\n",
      "VP\n",
      "\t\t\t\t\t\t\t\t PRP 1\n",
      "NP\n",
      "\t\t\t\t\t\t\t\t\t it 0\n",
      "PRP\n",
      "\t\t\t\t\t\t\t ADVP 2\n",
      "VP\n",
      "\t\t\t\t\t\t\t\t RB 1\n",
      "ADVP\n",
      "\t\t\t\t\t\t\t\t\t instantly 0\n",
      "RB\n"
     ]
    }
   ],
   "source": [
    "printTree(trees[0])"
   ]
  },
  {
   "cell_type": "code",
   "execution_count": 72,
   "metadata": {},
   "outputs": [
    {
     "name": "stdout",
     "output_type": "stream",
     "text": [
      "\t ROOT 12\n",
      "\t\t S 11\n",
      "\t\t\t VP 10\n",
      "\t\t\t\t VB 1\n",
      "\t\t\t\t\t list 0\n",
      "\t\t\t\t NP 2\n",
      "\t\t\t\t\t DT 1\n",
      "\t\t\t\t\t\t all 0\n",
      "\t\t\t\t\t NNS 1\n",
      "\t\t\t\t\t\t files 0\n",
      "\t\t\t\t PP 9\n",
      "\t\t\t\t\t IN 1\n",
      "\t\t\t\t\t\t in 0\n",
      "\t\t\t\t\t NP 8\n",
      "\t\t\t\t\t\t NP 2\n",
      "\t\t\t\t\t\t\t JJ 1\n",
      "\t\t\t\t\t\t\t\t current 0\n",
      "\t\t\t\t\t\t\t NN 1\n",
      "\t\t\t\t\t\t\t\t directory 0\n",
      "\t\t\t\t\t\t\t NN 1\n",
      "\t\t\t\t\t\t\t\t tree 0\n",
      "\t\t\t\t\t\t SBAR 7\n",
      "\t\t\t\t\t\t\t WHNP 2\n",
      "\t\t\t\t\t\t\t\t WDT 1\n",
      "\t\t\t\t\t\t\t\t\t that 0\n",
      "\t\t\t\t\t\t\t S 6\n",
      "\t\t\t\t\t\t\t\t VP 5\n",
      "\t\t\t\t\t\t\t\t\t VBD 1\n",
      "\t\t\t\t\t\t\t\t\t\t were 0\n",
      "\t\t\t\t\t\t\t\t\t ADVP 2\n",
      "\t\t\t\t\t\t\t\t\t\t RB 1\n",
      "\t\t\t\t\t\t\t\t\t\t\t last 0\n",
      "\t\t\t\t\t\t\t\t\t VP 4\n",
      "\t\t\t\t\t\t\t\t\t\t VBN 1\n",
      "\t\t\t\t\t\t\t\t\t\t\t modified 0\n",
      "\t\t\t\t\t\t\t\t\t\t PP 3\n",
      "\t\t\t\t\t\t\t\t\t\t\t IN 1\n",
      "\t\t\t\t\t\t\t\t\t\t\t\t between 0\n",
      "\t\t\t\t\t\t\t\t\t\t\t NP 2\n",
      "\t\t\t\t\t\t\t\t\t\t\t\t NNP 1\n",
      "\t\t\t\t\t\t\t\t\t\t\t\t\t REGEX 0\n",
      "\t\t\t\t\t\t\t\t\t\t\t\t CC 1\n",
      "\t\t\t\t\t\t\t\t\t\t\t\t\t and 0\n",
      "\t\t\t\t\t\t\t\t\t\t\t\t NNP 1\n",
      "\t\t\t\t\t\t\t\t\t\t\t\t\t DATETIME 0\n"
     ]
    }
   ],
   "source": [
    "printTree(process_tree(line_parseTree))"
   ]
  }
 ],
 "metadata": {
  "interpreter": {
   "hash": "7ce791282af15047425b0e64a740a4c19d859bbfabc4a2c009152d6dce0401d2"
  },
  "kernelspec": {
   "display_name": "Python 3.7.10 64-bit",
   "name": "python3"
  },
  "language_info": {
   "name": "python",
   "version": ""
  }
 },
 "nbformat": 4,
 "nbformat_minor": 5
}