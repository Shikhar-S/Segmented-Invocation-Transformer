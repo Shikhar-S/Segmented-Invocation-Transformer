{
 "cells": [
  {
   "cell_type": "code",
   "execution_count": 1,
   "id": "60acdae1-e132-4b8f-bac9-d9c687f751ad",
   "metadata": {},
   "outputs": [],
   "source": [
    "import torch\n",
    "import torch.nn as nn"
   ]
  },
  {
   "cell_type": "code",
   "execution_count": 2,
   "id": "d5cc544d-f381-4426-b18b-a241d574af80",
   "metadata": {},
   "outputs": [],
   "source": [
    "class HCE(nn.Module):\n",
    "    pass"
   ]
  },
  {
   "cell_type": "code",
   "execution_count": 3,
   "id": "c475fa60-d04c-4ad8-b312-ec1cc6f088de",
   "metadata": {},
   "outputs": [],
   "source": [
    "class ParseTreeNode:\n",
    "    def __init__(self,val):\n",
    "        self.value = val\n",
    "        self.children = []\n",
    "        self.height = 0\n",
    "        \n",
    "    def add_child(self,child):\n",
    "        self.children.append(child)\n",
    "        self.height = max(self.height,child.height+1)"
   ]
  },
  {
   "cell_type": "code",
   "execution_count": 4,
   "id": "218214d6-3d00-4af9-ac7f-0cf9deba3691",
   "metadata": {},
   "outputs": [],
   "source": [
    "import pickle\n",
    "data_path = '../Data/parallel_data/'\n",
    "tree_list = []\n",
    "with open(data_path + 'trees/valid.loss_fn0.tree.pickle', 'rb') as f:\n",
    "    tree_list = pickle.load(f)"
   ]
  },
  {
   "cell_type": "code",
   "execution_count": 5,
   "id": "f15c54b4-22fb-4b9b-b4d6-14d3bde74e21",
   "metadata": {},
   "outputs": [
    {
     "name": "stdout",
     "output_type": "stream",
     "text": [
      " ROOT 5\n",
      "\t S 4\n",
      "\t\t VP 3\n",
      "\t\t\t VB 1\n",
      "\t\t\t\t make 0\n",
      "\t\t\t NP 2\n",
      "\t\t\t\t NN 1\n",
      "\t\t\t\t\t directory 0\n",
      "\t\t\t\t NN 1\n",
      "\t\t\t\t\t FILE 0\n"
     ]
    }
   ],
   "source": [
    "def printTree(tree,tabs=0):\n",
    "    print('\\t'*tabs,tree.value,tree.height)\n",
    "    for ch in tree.children:\n",
    "        printTree(ch,tabs+1)\n",
    "\n",
    "printTree(tree_list[0])"
   ]
  },
  {
   "cell_type": "code",
   "execution_count": 100,
   "id": "64042b91-2e97-4bc9-871c-5b00d4a5782b",
   "metadata": {},
   "outputs": [],
   "source": [
    "def getNumTokens(node,filterheight =20):\n",
    "    ntokens = 0\n",
    "    for child in node.children:\n",
    "        ntokens += getNumTokens(child,filterheight)\n",
    "    if node.height<filterheight:\n",
    "        return ntokens+1\n",
    "    else:\n",
    "        return ntokens\n",
    "\n",
    "tokencounts = []\n",
    "for tree in tree_list:\n",
    "    nt = getNumTokens(tree,6)\n",
    "    tokencounts.append(nt)"
   ]
  },
  {
   "cell_type": "code",
   "execution_count": 101,
   "id": "6148047a-e3f8-48ed-95f1-6e4a9c6a301a",
   "metadata": {},
   "outputs": [
    {
     "data": {
      "text/plain": [
       "(<seaborn.axisgrid.FacetGrid at 0x7f3b90e72450>,\n",
       " 27.906542056074766,\n",
       " 11.787473717500058)"
      ]
     },
     "execution_count": 101,
     "metadata": {},
     "output_type": "execute_result"
    },
    {
     "data": {
      "image/png": "[encoded data removed]",
      "text/plain": [
       "<Figure size 360x360 with 1 Axes>"
      ]
     },
     "metadata": {},
     "output_type": "display_data"
    }
   ],
   "source": [
    "sns.displot(tokencounts),np.mean(tokencounts),np.std(tokencounts)"
   ]
  },
  {
   "cell_type": "code",
   "execution_count": 76,
   "id": "28a94f74-972c-4441-be9a-f41bcf722bd4",
   "metadata": {
    "tags": []
   },
   "outputs": [],
   "source": [
    "def getTreeTokens(node,height_filter = 3):\n",
    "    Tlist,NTlist = [],[]\n",
    "    for child in node.children:\n",
    "        tlist,ntlist = getTreeTokens(child,height_filter)\n",
    "        NTlist = NTlist + ntlist\n",
    "        Tlist = Tlist + tlist\n",
    "    if node.height == 0:\n",
    "        Tlist.append(node.value.strip())\n",
    "    elif node.height <= height_filter:\n",
    "        nodetoken = node.value.strip()\n",
    "        NTlist.append(nodetoken)\n",
    "    return Tlist,NTlist\n",
    "\n",
    "tokenlist = []\n",
    "for tree in tree_list:\n",
    "    tlist,ntlist = getTreeTokens(tree,height_filter=20)\n",
    "    tokenlist += tlist + ntlist"
   ]
  },
  {
   "cell_type": "code",
   "execution_count": 77,
   "id": "efebb57e-a6b4-4472-83c4-17dd4470312c",
   "metadata": {
    "tags": []
   },
   "outputs": [],
   "source": [
    "#Vocab\n",
    "from collections import Counter\n",
    "class Vocab:\n",
    "    # 0,1,2,3 reserved for pad,sos,eos,unk\n",
    "    def __init__(self,tokenized_sentences=None,tokenlist = None, reserve_tokens = True):\n",
    "        self.stoi = {}\n",
    "        self.itos = {}\n",
    "        self.token_counter = Counter()\n",
    "\n",
    "        self.unknown_tok = '[UNK]'\n",
    "        self.unknown_id = 0\n",
    "        self.pad_tok = '[PAD]'\n",
    "        self.pad = 1   \n",
    "        self.vocab_len = 0\n",
    "        self.add_token(self.unknown_tok,self.unknown_id)\n",
    "        self.add_token(self.pad_tok,self.pad)\n",
    "        \n",
    "\n",
    "        if reserve_tokens:\n",
    "            self.sos = 2\n",
    "            self.eos = 3\n",
    "            \n",
    "            self.sos_tok = '[SOS]'\n",
    "            self.eos_tok = '[EOS]'\n",
    "\n",
    "            self.add_token(self.pad_tok,self.pad)\n",
    "            self.add_token(self.sos_tok,self.sos)\n",
    "            self.add_token(self.eos_tok,self.eos)\n",
    "\n",
    "        if tokenized_sentences is not None:\n",
    "            self.build_dic(tokenized_sentences)\n",
    "        if tokenlist is not None:\n",
    "            for token in tokenlist:\n",
    "                self.add_token(token.strip())\n",
    "\n",
    "    def get_id(self,token):\n",
    "        return self.stoi.get(token,self.unknown_id)\n",
    "\n",
    "    def get_token(self,id):\n",
    "        return self.itos.get(id,'[UNK]')\n",
    "    \n",
    "    def token_exists(self,token):\n",
    "        return token in self.stoi.keys()\n",
    "    \n",
    "    def id_exists(self,id):\n",
    "        return id in self.itos.keys()\n",
    "    \n",
    "    def add_token(self,token,id=None):\n",
    "        self.token_counter.update([token])\n",
    "        if self.token_exists(token) or self.id_exists(id):\n",
    "            return\n",
    "        if id is None:\n",
    "            id = self.vocab_len\n",
    "        self.stoi[token] = id\n",
    "        self.itos[id] = token\n",
    "        while self.id_exists(self.vocab_len):\n",
    "            self.vocab_len += 1\n",
    "        assert len(self.stoi) == len(self.itos)\n",
    "        assert self.vocab_len == len(self.stoi), str(self.vocab_len)+ '!!!' + str(len(self.stoi))\n",
    "        assert self.vocab_len == len(self.itos)\n",
    "\n",
    "    def build_dic(self, tokenized_sentences):\n",
    "        for sentence in tokenized_sentences:\n",
    "            for token in sentence:\n",
    "                self.add_token(token.strip())\n",
    "    \n",
    "    def _build_inv_trg_dic(self):\n",
    "        for k,v in self.stoi.items():\n",
    "            self.itos[v]=k"
   ]
  },
  {
   "cell_type": "code",
   "execution_count": 80,
   "id": "abf6b423-2d60-4f89-a4ed-7fd3a236b5d9",
   "metadata": {},
   "outputs": [],
   "source": [
    "vocab = Vocab(tokenlist = tokenlist)"
   ]
  },
  {
   "cell_type": "code",
   "execution_count": 102,
   "id": "19495d7e-f5eb-4f61-84ca-b870935d3513",
   "metadata": {},
   "outputs": [
    {
     "data": {
      "text/plain": [
       "90"
      ]
     },
     "execution_count": 102,
     "metadata": {},
     "output_type": "execute_result"
    }
   ],
   "source": [
    "np.max(tokencounts)"
   ]
  },
  {
   "cell_type": "code",
   "execution_count": null,
   "id": "6f9fd646-d1cc-4947-809b-de5745d2c671",
   "metadata": {},
   "outputs": [],
   "source": []
  }
 ],
 "metadata": {
  "kernelspec": {
   "display_name": "Python 3",
   "language": "python",
   "name": "python3"
  },
  "language_info": {
   "codemirror_mode": {
    "name": "ipython",
    "version": 3
   },
   "file_extension": ".py",
   "mimetype": "text/x-python",
   "name": "python",
   "nbconvert_exporter": "python",
   "pygments_lexer": "ipython3",
   "version": "3.7.10"
  }
 },
 "nbformat": 4,
 "nbformat_minor": 5
}
