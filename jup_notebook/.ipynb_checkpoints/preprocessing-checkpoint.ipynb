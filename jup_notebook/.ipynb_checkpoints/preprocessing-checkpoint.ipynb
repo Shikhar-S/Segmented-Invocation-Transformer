{
 "cells": [
  {
   "cell_type": "code",
   "execution_count": 4,
   "id": "48975ee1-97bc-4aab-b7ed-b4b0307180c2",
   "metadata": {},
   "outputs": [],
   "source": [
    "'''\n",
    "with CoreNLPClient(\n",
    "        annotators=['tokenize','ssplit','pos','lemma','ner', 'parse', 'depparse','coref'],\n",
    "        timeout=30000,\n",
    "        memory='10G') as client:\n",
    "    ann = client.annotate(text)\n",
    "# get the first sentence\n",
    "sentence = ann.sentence[0]\n",
    "\n",
    "# get the constituency parse of the first sentence\n",
    "constituency_parse = sentence.parseTree\n",
    "print(constituency_parse)\n",
    "'''\n",
    "from stanza.server import CoreNLPClient"
   ]
  },
  {
   "cell_type": "code",
   "execution_count": 70,
   "id": "7686ec66-d92c-4c42-8031-7e4d804d5d3c",
   "metadata": {},
   "outputs": [],
   "source": [
    "class ParseTreeNode:\n",
    "    def __init__(self,val):\n",
    "        self.value = val\n",
    "        self.children = []\n",
    "        self.height = 0\n",
    "        \n",
    "    def add_child(self,child):\n",
    "        self.children.append(child)\n",
    "        self.height = max(self.height,child.height+1)\n",
    "        \n",
    "    \n",
    "def process_tree(root):\n",
    "    current = ParseTreeNode(root.value)\n",
    "    for ch in root.child:\n",
    "        child = process_tree(ch)\n",
    "        current.add_child(child)\n",
    "    return current"
   ]
  },
  {
   "cell_type": "code",
   "execution_count": null,
   "id": "30d042fd-e8a7-4837-b537-e12d63b2293f",
   "metadata": {},
   "outputs": [
    {
     "name": "stderr",
     "output_type": "stream",
     "text": [
      "2021-06-17 15:03:19 INFO: Writing properties to tmp file: corenlp_server-453b00eea76d4f5f.props\n",
      "2021-06-17 15:03:19 INFO: Starting server with command: java -Xmx16G -cp /home/antpc/stanza_corenlp/* edu.stanford.nlp.pipeline.StanfordCoreNLPServer -port 9000 -timeout 30000 -threads 5 -maxCharLength 100000 -quiet False -serverProperties corenlp_server-453b00eea76d4f5f.props -annotators tokenize,parse -preload -outputFormat serialized\n"
     ]
    }
   ],
   "source": [
    "import os\n",
    "import pickle\n",
    "\n",
    "data_base_path = '../Data/parallel_data/'\n",
    "with CoreNLPClient(\n",
    "        annotators=['tokenize','parse'],#['tokenize','ssplit','pos','lemma','ner', 'parse', 'depparse','coref'],\n",
    "        timeout=30000,\n",
    "        memory='16G') as client:\n",
    "    for file in os.listdir(data_base_path):\n",
    "        if 'en' not in file:\n",
    "            continue\n",
    "        trees = []\n",
    "        with open(data_base_path + file,'r') as f,open(data_base_path + 'trees/' + file[:-2]+'tree.pickle','wb') as g:\n",
    "            for line in f:\n",
    "                line = line.replace('_','') #else it breaks _FILE to _ and FILE\n",
    "                line_parseTree = client.annotate(line.strip()).sentence[0].parseTree\n",
    "                parseTree = process_tree(line_parseTree)\n",
    "                trees.append(parseTree)\n",
    "            pickle.dump(trees,g)"
   ]
  },
  {
   "cell_type": "code",
   "execution_count": 71,
   "id": "82ceea38-f827-45bc-9bc3-5cdfd07ff2c0",
   "metadata": {},
   "outputs": [],
   "source": [
    "def printTree(tree,tabs=1):\n",
    "    print('\\t'*tabs,tree.value,tree.height)\n",
    "    for ch in tree.children:\n",
    "        printTree(ch,tabs+1)\n",
    "\n",
    "# printTree(tree)"
   ]
  },
  {
   "cell_type": "code",
   "execution_count": 72,
   "id": "eb398cd4-1bbd-4923-be0c-c5842b7985c7",
   "metadata": {},
   "outputs": [
    {
     "name": "stdout",
     "output_type": "stream",
     "text": [
      "\t ROOT 12\n",
      "\t\t S 11\n",
      "\t\t\t VP 10\n",
      "\t\t\t\t VB 1\n",
      "\t\t\t\t\t list 0\n",
      "\t\t\t\t NP 2\n",
      "\t\t\t\t\t DT 1\n",
      "\t\t\t\t\t\t all 0\n",
      "\t\t\t\t\t NNS 1\n",
      "\t\t\t\t\t\t files 0\n",
      "\t\t\t\t PP 9\n",
      "\t\t\t\t\t IN 1\n",
      "\t\t\t\t\t\t in 0\n",
      "\t\t\t\t\t NP 8\n",
      "\t\t\t\t\t\t NP 2\n",
      "\t\t\t\t\t\t\t JJ 1\n",
      "\t\t\t\t\t\t\t\t current 0\n",
      "\t\t\t\t\t\t\t NN 1\n",
      "\t\t\t\t\t\t\t\t directory 0\n",
      "\t\t\t\t\t\t\t NN 1\n",
      "\t\t\t\t\t\t\t\t tree 0\n",
      "\t\t\t\t\t\t SBAR 7\n",
      "\t\t\t\t\t\t\t WHNP 2\n",
      "\t\t\t\t\t\t\t\t WDT 1\n",
      "\t\t\t\t\t\t\t\t\t that 0\n",
      "\t\t\t\t\t\t\t S 6\n",
      "\t\t\t\t\t\t\t\t VP 5\n",
      "\t\t\t\t\t\t\t\t\t VBD 1\n",
      "\t\t\t\t\t\t\t\t\t\t were 0\n",
      "\t\t\t\t\t\t\t\t\t ADVP 2\n",
      "\t\t\t\t\t\t\t\t\t\t RB 1\n",
      "\t\t\t\t\t\t\t\t\t\t\t last 0\n",
      "\t\t\t\t\t\t\t\t\t VP 4\n",
      "\t\t\t\t\t\t\t\t\t\t VBN 1\n",
      "\t\t\t\t\t\t\t\t\t\t\t modified 0\n",
      "\t\t\t\t\t\t\t\t\t\t PP 3\n",
      "\t\t\t\t\t\t\t\t\t\t\t IN 1\n",
      "\t\t\t\t\t\t\t\t\t\t\t\t between 0\n",
      "\t\t\t\t\t\t\t\t\t\t\t NP 2\n",
      "\t\t\t\t\t\t\t\t\t\t\t\t NNP 1\n",
      "\t\t\t\t\t\t\t\t\t\t\t\t\t REGEX 0\n",
      "\t\t\t\t\t\t\t\t\t\t\t\t CC 1\n",
      "\t\t\t\t\t\t\t\t\t\t\t\t\t and 0\n",
      "\t\t\t\t\t\t\t\t\t\t\t\t NNP 1\n",
      "\t\t\t\t\t\t\t\t\t\t\t\t\t DATETIME 0\n"
     ]
    }
   ],
   "source": [
    "printTree(process_tree(line_parseTree))"
   ]
  },
  {
   "cell_type": "code",
   "execution_count": null,
   "id": "34b23bfd-70db-442c-918a-b3b87d30e947",
   "metadata": {},
   "outputs": [],
   "source": []
  }
 ],
 "metadata": {
  "kernelspec": {
   "display_name": "Python 3",
   "language": "python",
   "name": "python3"
  },
  "language_info": {
   "codemirror_mode": {
    "name": "ipython",
    "version": 3
   },
   "file_extension": ".py",
   "mimetype": "text/x-python",
   "name": "python",
   "nbconvert_exporter": "python",
   "pygments_lexer": "ipython3",
   "version": "3.7.10"
  }
 },
 "nbformat": 4,
 "nbformat_minor": 5
}
