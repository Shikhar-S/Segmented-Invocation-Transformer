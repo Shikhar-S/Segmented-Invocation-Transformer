{
 "cells": [
  {
   "cell_type": "code",
   "execution_count": 3,
   "metadata": {},
   "outputs": [],
   "source": [
    "import pickle\n",
    "\n",
    "def load_sie_results():\n",
    "    result_list = []\n",
    "    for split in range(5):\n",
    "        for num_threads in range(1,7):\n",
    "            file_path = f'../src/inference_measurements/dfs_inference_time.{num_threads}th.{split}.pkl'\n",
    "            with open(file_path,'rb') as f:\n",
    "                result = pickle.load(f)\n",
    "            result_list.append(result)\n",
    "    return result_list\n",
    "\n",
    "def load_magnum_results():\n",
    "    result_list = []\n",
    "    for split in range(5):\n",
    "        for num_threads in range(1,7):\n",
    "            file_path = f'../../Magnum-NLC2CMD/inference_measurements/inference_time.{num_threads}th.{split}.pkl'\n",
    "            with open(file_path,'rb') as f:\n",
    "                result = pickle.load(f)\n",
    "            result_list.append(result)\n",
    "    return result_list"
   ]
  },
  {
   "cell_type": "code",
   "execution_count": 4,
   "metadata": {},
   "outputs": [
    {
     "name": "stdout",
     "output_type": "stream",
     "text": [
      "[<torch.utils.benchmark.utils.common.Measurement object at 0x7fb40b3575d0>\n",
      "run_inference(model,dataloader.test_dataloader())\n",
      "setup: model,dataloader = get_model_and_dataloader(args)\n",
      "  Median: 59.22 s\n",
      "  IQR:    1.87 s (58.41 to 60.28)\n",
      "  5 measurements, 1 runs per measurement, 1 thread, <torch.utils.benchmark.utils.common.Measurement object at 0x7fb40b091110>\n",
      "run_inference(model,dataloader.test_dataloader())\n",
      "setup: model,dataloader = get_model_and_dataloader(args)\n",
      "  Median: 51.80 s\n",
      "  IQR:    1.43 s (50.96 to 52.39)\n",
      "  5 measurements, 1 runs per measurement, 2 threads, <torch.utils.benchmark.utils.common.Measurement object at 0x7fb40b091050>\n",
      "run_inference(model,dataloader.test_dataloader())\n",
      "setup: model,dataloader = get_model_and_dataloader(args)\n",
      "  Median: 47.62 s\n",
      "  IQR:    1.82 s (46.70 to 48.52)\n",
      "  5 measurements, 1 runs per measurement, 3 threads, <torch.utils.benchmark.utils.common.Measurement object at 0x7fb40b0911d0>\n",
      "run_inference(model,dataloader.test_dataloader())\n",
      "setup: model,dataloader = get_model_and_dataloader(args)\n",
      "  Median: 45.62 s\n",
      "  IQR:    2.48 s (44.60 to 47.09)\n",
      "  5 measurements, 1 runs per measurement, 4 threads, <torch.utils.benchmark.utils.common.Measurement object at 0x7fb40b091350>\n",
      "run_inference(model,dataloader.test_dataloader())\n",
      "setup: model,dataloader = get_model_and_dataloader(args)\n",
      "  Median: 46.36 s\n",
      "  IQR:    2.35 s (45.47 to 47.82)\n",
      "  5 measurements, 1 runs per measurement, 5 threads, <torch.utils.benchmark.utils.common.Measurement object at 0x7fb40b091650>\n",
      "run_inference(model,dataloader.test_dataloader())\n",
      "setup: model,dataloader = get_model_and_dataloader(args)\n",
      "  Median: 45.83 s\n",
      "  IQR:    1.84 s (44.83 to 46.67)\n",
      "  5 measurements, 1 runs per measurement, 6 threads]\n"
     ]
    }
   ],
   "source": [
    "from torch.utils.benchmark import Measurement\n",
    "\n",
    "sie_av_results = load_sie_results()\n",
    "merged_sie_results = Measurement.merge(sie_av_results) # 5 runs for each split, average per run, then median over splits\n",
    "print(merged_sie_results)"
   ]
  },
  {
   "cell_type": "code",
   "execution_count": 5,
   "metadata": {},
   "outputs": [
    {
     "name": "stdout",
     "output_type": "stream",
     "text": [
      "[<torch.utils.benchmark.utils.common.Measurement object at 0x7fb40b0937d0>\n",
      "run_predict(nlc2cmd_dl, translator)\n",
      "setup: translator = load_model(model_dir, model_file)\n",
      "  Median: 144.51 s\n",
      "  IQR:    1.98 s (143.37 to 145.35)\n",
      "  5 measurements, 1 runs per measurement, 1 thread, <torch.utils.benchmark.utils.common.Measurement object at 0x7fb40b093390>\n",
      "run_predict(nlc2cmd_dl, translator)\n",
      "setup: translator = load_model(model_dir, model_file)\n",
      "  Median: 102.92 s\n",
      "  IQR:    4.24 s (102.26 to 106.50)\n",
      "  5 measurements, 1 runs per measurement, 2 threads, <torch.utils.benchmark.utils.common.Measurement object at 0x7fb40b093090>\n",
      "run_predict(nlc2cmd_dl, translator)\n",
      "setup: translator = load_model(model_dir, model_file)\n",
      "  Median: 92.17 s\n",
      "  IQR:    2.26 s (91.74 to 94.00)\n",
      "  5 measurements, 1 runs per measurement, 3 threads, <torch.utils.benchmark.utils.common.Measurement object at 0x7fb40b0935d0>\n",
      "run_predict(nlc2cmd_dl, translator)\n",
      "setup: translator = load_model(model_dir, model_file)\n",
      "  Median: 87.16 s\n",
      "  IQR:    3.94 s (86.46 to 90.40)\n",
      "  5 measurements, 1 runs per measurement, 4 threads, <torch.utils.benchmark.utils.common.Measurement object at 0x7fb40b0932d0>\n",
      "run_predict(nlc2cmd_dl, translator)\n",
      "setup: translator = load_model(model_dir, model_file)\n",
      "  Median: 86.01 s\n",
      "  IQR:    0.72 s (85.80 to 86.52)\n",
      "  5 measurements, 1 runs per measurement, 5 threads, <torch.utils.benchmark.utils.common.Measurement object at 0x7fb40b093810>\n",
      "run_predict(nlc2cmd_dl, translator)\n",
      "setup: translator = load_model(model_dir, model_file)\n",
      "  Median: 83.89 s\n",
      "  IQR:    3.83 s (83.21 to 87.04)\n",
      "  5 measurements, 1 runs per measurement, 6 threads]\n",
      "--------------------------------------------------------------------------------\n"
     ]
    }
   ],
   "source": [
    "magnum_av_results = load_magnum_results()\n",
    "merged_magnum_results = Measurement.merge(magnum_av_results)\n",
    "print(merged_magnum_results)\n",
    "print('----'*20)\n",
    "\n",
    "def get_result_in_arrays(merged_results):\n",
    "    median_times = []\n",
    "    mean_times = []\n",
    "    iqr = []\n",
    "    for R in merged_results:\n",
    "        median_times.append(R.median)\n",
    "        mean_times.append(R.mean)\n",
    "        iqr.append(R.iqr)\n",
    "    return median_times, mean_times, iqr\n",
    "\n",
    "magnum_median, magnum_mean, magnum_iqr = get_result_in_arrays(merged_magnum_results)\n",
    "sie_median, sie_mean, sie_iqr = get_result_in_arrays(merged_sie_results)"
   ]
  },
  {
   "cell_type": "code",
   "execution_count": 6,
   "metadata": {},
   "outputs": [
    {
     "data": {
      "text/html": [
       "<div>\n",
       "<style scoped>\n",
       "    .dataframe tbody tr th:only-of-type {\n",
       "        vertical-align: middle;\n",
       "    }\n",
       "\n",
       "    .dataframe tbody tr th {\n",
       "        vertical-align: top;\n",
       "    }\n",
       "\n",
       "    .dataframe thead th {\n",
       "        text-align: right;\n",
       "    }\n",
       "</style>\n",
       "<table border=\"1\" class=\"dataframe\">\n",
       "  <thead>\n",
       "    <tr style=\"text-align: right;\">\n",
       "      <th></th>\n",
       "      <th>num_threads</th>\n",
       "      <th>sie_median</th>\n",
       "      <th>sie_mean</th>\n",
       "      <th>sie_iqr</th>\n",
       "      <th>magnum_median</th>\n",
       "      <th>magnum_mean</th>\n",
       "      <th>magnum_iqr</th>\n",
       "    </tr>\n",
       "  </thead>\n",
       "  <tbody>\n",
       "    <tr>\n",
       "      <th>0</th>\n",
       "      <td>1</td>\n",
       "      <td>59.218128</td>\n",
       "      <td>59.067228</td>\n",
       "      <td>1.873608</td>\n",
       "      <td>144.505296</td>\n",
       "      <td>145.701916</td>\n",
       "      <td>1.975341</td>\n",
       "    </tr>\n",
       "    <tr>\n",
       "      <th>1</th>\n",
       "      <td>2</td>\n",
       "      <td>51.804884</td>\n",
       "      <td>51.515400</td>\n",
       "      <td>1.430817</td>\n",
       "      <td>102.924749</td>\n",
       "      <td>105.599638</td>\n",
       "      <td>4.240698</td>\n",
       "    </tr>\n",
       "    <tr>\n",
       "      <th>2</th>\n",
       "      <td>3</td>\n",
       "      <td>47.620591</td>\n",
       "      <td>47.632422</td>\n",
       "      <td>1.816307</td>\n",
       "      <td>92.174572</td>\n",
       "      <td>94.573963</td>\n",
       "      <td>2.256530</td>\n",
       "    </tr>\n",
       "    <tr>\n",
       "      <th>3</th>\n",
       "      <td>4</td>\n",
       "      <td>45.615128</td>\n",
       "      <td>45.782117</td>\n",
       "      <td>2.484258</td>\n",
       "      <td>87.164525</td>\n",
       "      <td>89.012480</td>\n",
       "      <td>3.941838</td>\n",
       "    </tr>\n",
       "    <tr>\n",
       "      <th>4</th>\n",
       "      <td>5</td>\n",
       "      <td>46.362933</td>\n",
       "      <td>46.492851</td>\n",
       "      <td>2.353324</td>\n",
       "      <td>86.014497</td>\n",
       "      <td>86.725596</td>\n",
       "      <td>0.721199</td>\n",
       "    </tr>\n",
       "    <tr>\n",
       "      <th>5</th>\n",
       "      <td>6</td>\n",
       "      <td>45.834465</td>\n",
       "      <td>45.676815</td>\n",
       "      <td>1.842312</td>\n",
       "      <td>83.890612</td>\n",
       "      <td>84.795297</td>\n",
       "      <td>3.829061</td>\n",
       "    </tr>\n",
       "  </tbody>\n",
       "</table>\n",
       "</div>"
      ],
      "text/plain": [
       "   num_threads  sie_median   sie_mean   sie_iqr  magnum_median  magnum_mean  \\\n",
       "0            1   59.218128  59.067228  1.873608     144.505296   145.701916   \n",
       "1            2   51.804884  51.515400  1.430817     102.924749   105.599638   \n",
       "2            3   47.620591  47.632422  1.816307      92.174572    94.573963   \n",
       "3            4   45.615128  45.782117  2.484258      87.164525    89.012480   \n",
       "4            5   46.362933  46.492851  2.353324      86.014497    86.725596   \n",
       "5            6   45.834465  45.676815  1.842312      83.890612    84.795297   \n",
       "\n",
       "   magnum_iqr  \n",
       "0    1.975341  \n",
       "1    4.240698  \n",
       "2    2.256530  \n",
       "3    3.941838  \n",
       "4    0.721199  \n",
       "5    3.829061  "
      ]
     },
     "execution_count": 6,
     "metadata": {},
     "output_type": "execute_result"
    }
   ],
   "source": [
    "import pandas as pd\n",
    "df = {'num_threads':[1,2,3,4,5,6], 'sie_median':sie_median, 'sie_mean': sie_mean, 'sie_iqr':sie_iqr, 'magnum_median': magnum_median, 'magnum_mean': magnum_mean, 'magnum_iqr': magnum_iqr}\n",
    "df = pd.DataFrame(df)\n",
    "df"
   ]
  },
  {
   "cell_type": "code",
   "execution_count": 7,
   "metadata": {},
   "outputs": [],
   "source": [
    "df2 = {'model':[],'median_time':[],'mean_time':[],'num_threads':[]}\n",
    "i=1\n",
    "for med,mea in zip(sie_median, sie_mean):\n",
    "    df2['model'].append( 'sie' )\n",
    "    df2['median_time'].append( med )\n",
    "    df2['mean_time'].append( mea )\n",
    "    df2['num_threads'].append( i )\n",
    "    i+=1\n",
    "\n",
    "i=1\n",
    "for med,mea in zip(magnum_median, magnum_mean):\n",
    "    df2['model'].append( 'magnum' )\n",
    "    df2['median_time'].append( med )\n",
    "    df2['mean_time'].append( mea )\n",
    "    df2['num_threads'].append( i )\n",
    "    i+=1\n",
    "\n",
    "df2= pd.DataFrame(df2)"
   ]
  },
  {
   "cell_type": "code",
   "execution_count": 8,
   "metadata": {},
   "outputs": [
    {
     "data": {
      "image/png": "[encoded data removed]",
      "text/plain": [
       "<Figure size 432x288 with 1 Axes>"
      ]
     },
     "metadata": {
      "needs_background": "light"
     },
     "output_type": "display_data"
    }
   ],
   "source": [
    "import seaborn as sns\n",
    "ax = sns.barplot(x=\"num_threads\", y=\"median_time\", hue=\"model\", data=df2, palette= 'colorblind')"
   ]
  },
  {
   "cell_type": "code",
   "execution_count": 9,
   "metadata": {},
   "outputs": [
    {
     "data": {
      "image/png": "[encoded data removed]",
      "text/plain": [
       "<Figure size 432x288 with 1 Axes>"
      ]
     },
     "metadata": {
      "needs_background": "light"
     },
     "output_type": "display_data"
    }
   ],
   "source": [
    "ax = sns.barplot(x=\"num_threads\", y=\"mean_time\", hue=\"model\", data=df2, palette= 'colorblind')"
   ]
  },
  {
   "cell_type": "code",
   "execution_count": 10,
   "metadata": {},
   "outputs": [
    {
     "data": {
      "text/plain": [
       "1.82849661793585"
      ]
     },
     "execution_count": 10,
     "metadata": {},
     "output_type": "execute_result"
    }
   ],
   "source": [
    "83.8/45.83"
   ]
  },
  {
   "cell_type": "code",
   "execution_count": null,
   "metadata": {},
   "outputs": [],
   "source": []
  }
 ],
 "metadata": {
  "interpreter": {
   "hash": "c30ecad4d0d41ae5035bee70015ac60efa169226fd39c5a744f0fd7e042250a6"
  },
  "kernelspec": {
   "display_name": "Python 3",
   "language": "python",
   "name": "python3"
  },
  "language_info": {
   "codemirror_mode": {
    "name": "ipython",
    "version": 3
   },
   "file_extension": ".py",
   "mimetype": "text/x-python",
   "name": "python",
   "nbconvert_exporter": "python",
   "pygments_lexer": "ipython3",
   "version": "3.7.10"
  }
 },
 "nbformat": 4,
 "nbformat_minor": 4
}
